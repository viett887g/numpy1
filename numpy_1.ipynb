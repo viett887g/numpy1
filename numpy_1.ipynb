{
  "nbformat": 4,
  "nbformat_minor": 0,
  "metadata": {
    "colab": {
      "name": "numpy 1.ipynb",
      "provenance": [],
      "authorship_tag": "ABX9TyPF7hAlck2R7t2HTDcAdyIw",
      "include_colab_link": true
    },
    "kernelspec": {
      "name": "python3",
      "display_name": "Python 3"
    },
    "language_info": {
      "name": "python"
    }
  },
  "cells": [
    {
      "cell_type": "markdown",
      "metadata": {
        "id": "view-in-github",
        "colab_type": "text"
      },
      "source": [
        "<a href=\"https://colab.research.google.com/github/viett887g/numpy1/blob/main/numpy_1.ipynb\" target=\"_parent\"><img src=\"https://colab.research.google.com/assets/colab-badge.svg\" alt=\"Open In Colab\"/></a>"
      ]
    },
    {
      "cell_type": "code",
      "execution_count": 1,
      "metadata": {
        "id": "Jt3PIqFD6Tcy"
      },
      "outputs": [],
      "source": [
        "import numpy as np\n",
        "import math\n",
        "import random as rd"
      ]
    },
    {
      "cell_type": "code",
      "source": [
        "Bài 1: Xét không gian R3\n",
        "\n",
        ", một điểm A trong không gian này có tọa độ là (5, 7, 14). Hãy khởi tạo\n",
        "\n",
        "giá trị của điểm A nêu trên bằng Numpy."
      ],
      "metadata": {
        "id": "R2jGjaJD6ji6"
      },
      "execution_count": null,
      "outputs": []
    },
    {
      "cell_type": "code",
      "source": [
        "a1 = np.array([[5],[7],[14]])"
      ],
      "metadata": {
        "id": "nZwQCkQ56fO0"
      },
      "execution_count": 13,
      "outputs": []
    },
    {
      "cell_type": "code",
      "source": [
        "Bài 2: Mở rộng không gian lên R15, điểm A trong không gian này có tọa độ là (1, 2, 3, 4, 5, 6, 7, 8, 9, 10, 11, 12, 13, 14, 15). Hãy khởi tạo điểm A trong không gian 15 chiều này bằng Numpy."
      ],
      "metadata": {
        "id": "gw33Lows6g9L"
      },
      "execution_count": null,
      "outputs": []
    },
    {
      "cell_type": "code",
      "source": [
        "a2 = np.array([[1],[2],[3],[4],[5],[6],[7],[8],[9],[10],[11],[12],[13],[14],[15]])\n",
        "\n",
        "print(a2)"
      ],
      "metadata": {
        "colab": {
          "base_uri": "https://localhost:8080/"
        },
        "id": "vUX14sy_6ske",
        "outputId": "ad14cb7c-0d93-4022-fb76-cad381acf90a"
      },
      "execution_count": 12,
      "outputs": [
        {
          "output_type": "stream",
          "name": "stdout",
          "text": [
            "[[ 1]\n",
            " [ 2]\n",
            " [ 3]\n",
            " [ 4]\n",
            " [ 5]\n",
            " [ 6]\n",
            " [ 7]\n",
            " [ 8]\n",
            " [ 9]\n",
            " [10]\n",
            " [11]\n",
            " [12]\n",
            " [13]\n",
            " [14]\n",
            " [15]]\n"
          ]
        }
      ]
    },
    {
      "cell_type": "code",
      "source": [
        "Hãy viết chương trình sinh ngẫu nhiên một vector trong không gian Rn với n là số nguyên dương\n",
        "được nhập vào từ bàn phím. Yêu cầu: sử dụng Numpy."
      ],
      "metadata": {
        "id": "OgpTjvyk6ulT"
      },
      "execution_count": null,
      "outputs": []
    },
    {
      "cell_type": "code",
      "source": [
        "n = int(input('Nhập số chiều trong không gian của vector A: '))\n",
        "print('\\n')\n",
        "\n",
        "a3 = []\n",
        "\n",
        "for i in range(n):\n",
        "    print('Nhập tọa độ của A('+ str(i+1) +') tương ứng với số chiều trong không gian: ',end=\"\")\n",
        "    i = [int(input())]\n",
        "    a3.append(i)\n",
        "print(a3)\n",
        "vecA = np.array(a3)    \n",
        "print(\"\\n Vector A bạn vừa tạo là: \\n\", vecA)"
      ],
      "metadata": {
        "colab": {
          "base_uri": "https://localhost:8080/"
        },
        "id": "c_48QJW764OC",
        "outputId": "ca21f0e6-d83e-4abb-eee3-8f65d3ab6d34"
      },
      "execution_count": 14,
      "outputs": [
        {
          "output_type": "stream",
          "name": "stdout",
          "text": [
            "Nhập số chiều trong không gian của vector A: 5\n",
            "\n",
            "\n",
            "Nhập tọa độ của A(1) tương ứng với số chiều trong không gian: 12\n",
            "Nhập tọa độ của A(2) tương ứng với số chiều trong không gian: 5\n",
            "Nhập tọa độ của A(3) tương ứng với số chiều trong không gian: 2\n",
            "Nhập tọa độ của A(4) tương ứng với số chiều trong không gian: 4\n",
            "Nhập tọa độ của A(5) tương ứng với số chiều trong không gian: 2\n",
            "[[5], [6], [4], [12], [5], [2], [4], [2]]\n",
            "\n",
            " Vector A bạn vừa tạo là: \n",
            " [[ 5]\n",
            " [ 6]\n",
            " [ 4]\n",
            " [12]\n",
            " [ 5]\n",
            " [ 2]\n",
            " [ 4]\n",
            " [ 2]]\n"
          ]
        }
      ]
    },
    {
      "cell_type": "code",
      "source": [
        "Trong không gian R3\n",
        "\n",
        "xét vector OA⃗⃗⃗⃗⃗"
      ],
      "metadata": {
        "id": "nG0_Llr667sy"
      },
      "execution_count": null,
      "outputs": []
    },
    {
      "cell_type": "code",
      "source": [
        "Hãy viết chương trình tính chiều dài của vector OA⃗⃗⃗⃗⃗ , biết công thức tổng quát để tính chiều dài\n",
        "vector OA⃗⃗⃗⃗⃗ trong không gian Rn\n",
        "là:"
      ],
      "metadata": {
        "id": "bHfJi-HC7GdD"
      },
      "execution_count": null,
      "outputs": []
    },
    {
      "cell_type": "code",
      "source": [
        "vecA = np.array([[7],[-5],[8]])\n",
        "print(\"Vector A là: \", vecA)\n",
        "n = 0\n",
        "\n",
        "for i in vecA:\n",
        "    n += i**2\n",
        "    \n",
        "vecOA = math.sqrt(n)\n",
        "print(\"Chiều dài vector OA (với O là gốc tạo độ) là: \", vecOA)"
      ],
      "metadata": {
        "colab": {
          "base_uri": "https://localhost:8080/"
        },
        "id": "R9iiJl4c7Nxi",
        "outputId": "7c4ad144-fe0b-42eb-fdf9-daed32ec5f93"
      },
      "execution_count": 5,
      "outputs": [
        {
          "output_type": "stream",
          "name": "stdout",
          "text": [
            "Vector A là:  [[ 7]\n",
            " [-5]\n",
            " [ 8]]\n",
            "Chiều dài vector OA (với O là gốc tạo độ) là:  11.74734012447073\n"
          ]
        }
      ]
    },
    {
      "cell_type": "code",
      "source": [
        "Bài 5: Trong không gian Rn\n",
        "\n",
        ", hãy sinh ngẫu nhiên 2 điểm A và B. Xác định vector AB⃗⃗⃗⃗⃗ và tính\n",
        "\n",
        "chiều dài của vector này ‖AB⃗⃗⃗⃗⃗ ‖. Lưu ý: sử dụng Numpy."
      ],
      "metadata": {
        "id": "_o2Pw7al7Q6h"
      },
      "execution_count": null,
      "outputs": []
    },
    {
      "cell_type": "code",
      "source": [
        "n = int(input(\"Nhập số chiều trong không gian: \"))\n",
        "vecA = []\n",
        "vecB = []\n",
        "\n",
        "for i in range(n):\n",
        "    i = [rd.random()]\n",
        "    vecA.append(i)\n",
        "    i = [rd.random()]\n",
        "    vecB.append(i)\n",
        "\n",
        "vecA = np.array(vecA)\n",
        "print(\"Vector A được khởi tạo là: \", vecA)\n",
        "vecB = np.array(vecB)\n",
        "print(\"Vector B được khởi tạo là: \", vecB)\n",
        "vecAB = vecA + vecB\n",
        "\n",
        "n = 0\n",
        "for i in vecAB:\n",
        "    n += i**2\n",
        "\n",
        "vecAB = math.sqrt(n)\n",
        "print(\"Chiều dài của vector AB là: \", vecAB)"
      ],
      "metadata": {
        "colab": {
          "base_uri": "https://localhost:8080/"
        },
        "id": "SF5mLnYx7XTa",
        "outputId": "31a2fb8c-abd9-47fe-e268-1817e4ead653"
      },
      "execution_count": 6,
      "outputs": [
        {
          "output_type": "stream",
          "name": "stdout",
          "text": [
            "Nhập số chiều trong không gian: 4\n",
            "Vector A được khởi tạo là:  [[0.18753024]\n",
            " [0.48348186]\n",
            " [0.55405206]\n",
            " [0.15468025]]\n",
            "Vector B được khởi tạo là:  [[0.8708678 ]\n",
            " [0.1039738 ]\n",
            " [0.15065346]\n",
            " [0.3595246 ]]\n",
            "Chiều dài của vector AB là:  1.492088151134861\n"
          ]
        }
      ]
    },
    {
      "cell_type": "code",
      "source": [
        "Bài 6: Tích vô hướng của 2 vector a & b⃗ (dot product hoặc inner product hoặc scalar product) được tính theo công thức tổng quát là:\n",
        "\n",
        "a ∙ b⃗ = a1b1 + a2b2 + ⋯ + anbn\n",
        "\n",
        "Trong không gian Rn\n",
        "\n",
        ", hãy sinh ngẫu nhiên 2 vector a & b⃗ và tính tích vô hướng của 2 vector này. Lưu ý: sử dụng numpy để tính tích vô hướng và số nguyên dương n được nhập vào từ bàn phím. Gợi ý: sử dụng hàm numpy.inner()"
      ],
      "metadata": {
        "id": "iUYQitaz7a1a"
      },
      "execution_count": null,
      "outputs": []
    },
    {
      "cell_type": "code",
      "source": [
        "n = int(input(\"Nhập số chiều trong không gian: \"))\n",
        "vecA = []\n",
        "vecB = []\n",
        "\n",
        "for i in range(n):\n",
        "    i = [rd.random()]\n",
        "    vecA.append(i)\n",
        "    i = [rd.random()]\n",
        "    vecB.append(i)\n",
        "    \n",
        "\n",
        "vecA = np.array(vecA)\n",
        "print(\"Vector A được khởi tạo là: \", vecA)\n",
        "vecB = np.array(vecB)\n",
        "print(\"Vector B được khởi tạo là: \", vecB)\n",
        "print(\"Tích vô hướng của vector AB là: \",np.inner(np.array(vecA), np.array(vecB)))"
      ],
      "metadata": {
        "colab": {
          "base_uri": "https://localhost:8080/"
        },
        "id": "At8zHNa47bqE",
        "outputId": "17a5d69e-4825-4f35-a08d-e104a41a6746"
      },
      "execution_count": 7,
      "outputs": [
        {
          "output_type": "stream",
          "name": "stdout",
          "text": [
            "Nhập số chiều trong không gian: 5\n",
            "Vector A được khởi tạo là:  [[0.5616521 ]\n",
            " [0.21026447]\n",
            " [0.34075823]\n",
            " [0.31157355]\n",
            " [0.35597872]]\n",
            "Vector B được khởi tạo là:  [[0.41074821]\n",
            " [0.46967139]\n",
            " [0.99019261]\n",
            " [0.18145914]\n",
            " [0.52157985]]\n",
            "Tích vô hướng của vector AB là:  [[0.23069759 0.26379192 0.55614376 0.10191691 0.29294642]\n",
            " [0.08636575 0.0987552  0.20820232 0.03815441 0.10966971]\n",
            " [0.13996583 0.16004439 0.33741628 0.0618337  0.17773263]\n",
            " [0.12797828 0.14633718 0.30851783 0.05653787 0.16251049]\n",
            " [0.14621762 0.16719302 0.3524875  0.06459559 0.18567133]]\n"
          ]
        }
      ]
    },
    {
      "cell_type": "code",
      "source": [
        "Bài 7: Tích hữu hướng (cross product) của 2 vector a & b⃗ được tính theo công thức tổng quát là:\n",
        "\n",
        "a × b⃗ = ‖a ‖‖b⃗ ‖ sin(θ)\n",
        "\n",
        "Trong không gian Rn\n",
        "\n",
        ", hãy sinh ngẫu nhiên 2 vector a & b⃗ và tính tích hữu hướng của 2 vector này. Lưu ý: sử dụng numpy để tính tích vô hướng và số nguyên dương n được nhập vào từ bàn phím. Gợi ý: sử dụng hàm numpy.cross()"
      ],
      "metadata": {
        "id": "RJIbbv2O7h_H"
      },
      "execution_count": null,
      "outputs": []
    },
    {
      "cell_type": "code",
      "source": [
        "n = int(input(\"Nhập số chiều trong không gian: \"))\n",
        "vecA = []\n",
        "vecB = []\n",
        "\n",
        "for i in range(n):\n",
        "    i = [rd.random(),rd.random(),rd.random()]\n",
        "    vecA.append(i)\n",
        "    i = [rd.random(),rd.random(),rd.random()]\n",
        "    vecB.append(i)\n",
        "    \n",
        "vecA = np.array(vecA)\n",
        "print(\"Vector A được khởi tạo là: \", vecA)\n",
        "vecB = np.array(vecB)\n",
        "print(\"Vector B được khởi tạo là: \", vecB)\n",
        "z = np.cross(vecA, vecB)\n",
        "print(z)"
      ],
      "metadata": {
        "colab": {
          "base_uri": "https://localhost:8080/"
        },
        "id": "5fX2sS8j7ini",
        "outputId": "dcc77491-441a-482a-c904-b4758de159c9"
      },
      "execution_count": 8,
      "outputs": [
        {
          "output_type": "stream",
          "name": "stdout",
          "text": [
            "Nhập số chiều trong không gian: 5\n",
            "Vector A được khởi tạo là:  [[0.59035888 0.10232238 0.59098417]\n",
            " [0.58414987 0.71042774 0.80670278]\n",
            " [0.41374254 0.52370945 0.84288886]\n",
            " [0.95218486 0.0439107  0.77671321]\n",
            " [0.181188   0.79927363 0.58940377]]\n",
            "Vector B được khởi tạo là:  [[0.15085047 0.22086619 0.1836506 ]\n",
            " [0.87116169 0.41585201 0.59098699]\n",
            " [0.26272399 0.90800064 0.96290536]\n",
            " [0.74652991 0.78949058 0.44832616]\n",
            " [0.6033746  0.78180238 0.34501004]]\n",
            "[[-0.11173685 -0.01926952  0.11495494]\n",
            " [ 0.08438458  0.35754358 -0.37597753]\n",
            " [-0.26106099 -0.17694778  0.23808745]\n",
            " [-0.59352144  0.15295027  0.71896032]\n",
            " [-0.18503984  0.29311959 -0.3406082 ]]\n"
          ]
        }
      ]
    },
    {
      "cell_type": "code",
      "source": [
        "Bài 8 - Phép chuyển vị (transpose): trong numpy, một vector a khi thực hiện chuyển vị sẽ được thực hiện thông qua thao tác a.T Hãy viết chương trình sinh ngẫu nhiên một vector a trong không gian Rn\n",
        "\n",
        ", số nguyên dương n được nhập vào từ bàn phím. Xuất ra màn hình giá của vector a và chuyển vị của vector a ."
      ],
      "metadata": {
        "id": "kpCtbk5v7nfr"
      },
      "execution_count": null,
      "outputs": []
    },
    {
      "cell_type": "code",
      "source": [
        "n = int(input(\"Nhập số chiều trong không gian: \"))\n",
        "vecA = []\n",
        "\n",
        "for i in range(n):\n",
        "    i = [rd.randint(1,10),rd.randint(1,10),rd.randint(1,10)]\n",
        "    vecA.append(i)\n",
        "    \n",
        "vecA = np.array(vecA)\n",
        "print(\"Vector A được khởi tạo là: \", vecA)\n",
        "print(\"Ma trận chuyển vị của vector A là: \", np.transpose(vecA,(1,0)))"
      ],
      "metadata": {
        "colab": {
          "base_uri": "https://localhost:8080/"
        },
        "id": "rvv2jTuJ7p8S",
        "outputId": "5b9beef3-0e0a-4d4f-bd6f-913036a1ad21"
      },
      "execution_count": 9,
      "outputs": [
        {
          "output_type": "stream",
          "name": "stdout",
          "text": [
            "Nhập số chiều trong không gian: 5\n",
            "Vector A được khởi tạo là:  [[4 8 6]\n",
            " [6 6 5]\n",
            " [6 1 2]\n",
            " [8 4 2]\n",
            " [8 7 6]]\n",
            "Ma trận chuyển vị của vector A là:  [[4 6 6 8 8]\n",
            " [8 6 1 4 7]\n",
            " [6 5 2 2 6]]\n"
          ]
        }
      ]
    },
    {
      "cell_type": "code",
      "source": [
        "Bài 9 - Kết hợp cấu trúc list với Numpy: Xét 2 cấu trúc list dưới đây:\n",
        "\n",
        "a = [1, 2, 3, 4, 5]\n",
        "b = [[1], [2], [3], [4], [5]] Hãy:  Xuất a và b ra màn hình  Tạo vector tương ứng từ a và b, xuất kết quả ra màn hình  Thực hiện phép chuyển vị đối với 2 vector ở trên và xuất kết quả ra màn hình."
      ],
      "metadata": {
        "id": "aUWaU7GR7u-I"
      },
      "execution_count": null,
      "outputs": []
    },
    {
      "cell_type": "code",
      "source": [
        "a = [1,2,3,4,5]\n",
        "b = [[1],[2],[3],[4],[5]]\n",
        "print(a)\n",
        "print(b)\n",
        "\n",
        "a = np.array(a)\n",
        "b = np.array(b)\n",
        "print(a)\n",
        "print(b)\n",
        "\n",
        "a = np.transpose(a)\n",
        "b = np.transpose(b)\n",
        "print(a)\n",
        "print(b)"
      ],
      "metadata": {
        "colab": {
          "base_uri": "https://localhost:8080/"
        },
        "id": "lGUvLEOz7vho",
        "outputId": "f8626b9e-96fc-4e65-b294-c19cba6d4355"
      },
      "execution_count": 10,
      "outputs": [
        {
          "output_type": "stream",
          "name": "stdout",
          "text": [
            "[1, 2, 3, 4, 5]\n",
            "[[1], [2], [3], [4], [5]]\n",
            "[1 2 3 4 5]\n",
            "[[1]\n",
            " [2]\n",
            " [3]\n",
            " [4]\n",
            " [5]]\n",
            "[1 2 3 4 5]\n",
            "[[1 2 3 4 5]]\n"
          ]
        }
      ]
    },
    {
      "cell_type": "code",
      "source": [
        "Bài 10: Trong không gian Rn\n",
        "\n",
        ", hãy sinh ngẫu nhiên vector a và b⃗ , n là số nguyên dương nhập vào\n",
        "\n",
        "từ bàn phím. Hãy:  Thực hiện phép nhân: ma với m là số bất kỳ, xuất kết quả ra màn hình  Thực hiện phép cộng 2 vector: a + b⃗ và xuất kết quả ra màn hình."
      ],
      "metadata": {
        "id": "SIRIhOgP70Qh"
      },
      "execution_count": null,
      "outputs": []
    },
    {
      "cell_type": "code",
      "source": [
        "n = int(input(\"Nhập số chiều trong không gian: \"))\n",
        "vecA = []\n",
        "vecB = []\n",
        "\n",
        "for i in range(n):\n",
        "    i = [rd.randint(1,100),rd.randint(1,100),rd.randint(1,100)]\n",
        "    vecA.append(i)\n",
        "    i = [rd.randint(1,100),rd.randint(1,100),rd.randint(1,100)]\n",
        "    vecB.append(i)\n",
        "    \n",
        "vecA = np.array(vecA)\n",
        "print(\"Vector A được khởi tạo là: \", vecA)\n",
        "vecB = np.array(vecB)\n",
        "print(\"Vector B được khởi tạo là: \", vecB)\n",
        "\n",
        "print(\"vector A * m = \", vecA * rd.randint(1,10))\n",
        "print(\"vector A + vector B = \", vecA + vecB)"
      ],
      "metadata": {
        "colab": {
          "base_uri": "https://localhost:8080/"
        },
        "id": "QbrMt2xo72bR",
        "outputId": "9ddd2184-213d-4d4a-f5bb-2de83005f011"
      },
      "execution_count": 11,
      "outputs": [
        {
          "output_type": "stream",
          "name": "stdout",
          "text": [
            "Nhập số chiều trong không gian: 5\n",
            "Vector A được khởi tạo là:  [[32 72  9]\n",
            " [22 96 96]\n",
            " [87 47 79]\n",
            " [76 42 93]\n",
            " [ 5 19 43]]\n",
            "Vector B được khởi tạo là:  [[42 77 65]\n",
            " [30 94 75]\n",
            " [46 89  2]\n",
            " [30 66 53]\n",
            " [18 76 92]]\n",
            "vector A * m =  [[ 96 216  27]\n",
            " [ 66 288 288]\n",
            " [261 141 237]\n",
            " [228 126 279]\n",
            " [ 15  57 129]]\n",
            "vector A + vector B =  [[ 74 149  74]\n",
            " [ 52 190 171]\n",
            " [133 136  81]\n",
            " [106 108 146]\n",
            " [ 23  95 135]]\n"
          ]
        }
      ]
    }
  ]
}